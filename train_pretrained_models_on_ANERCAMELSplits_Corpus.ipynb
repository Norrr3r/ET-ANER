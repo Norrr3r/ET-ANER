{
  "cells": [
    {
      "cell_type": "code",
      "execution_count": null,
      "metadata": {
        "id": "BeITOkwIRbBP",
        "collapsed": true
      },
      "outputs": [],
      "source": [
        "# Verify that you have the GPU recognized\n",
        "!nvidia-smi"
      ]
    },
    {
      "cell_type": "code",
      "execution_count": null,
      "metadata": {
        "id": "dtO91IXuujsZ",
        "collapsed": true
      },
      "outputs": [],
      "source": [
        "# Install dependencies\n",
        "#!pip install pytorch==1.13.1\n",
        "!pip install transformers==4.26.1\n",
        "#!pip install torchtext==0.14.0\n",
        "#!pip install torchvision==0.14.1\n",
        "!pip install seqeval==1.2.2\n",
        "!pip install torch==2.0.0 torchvision==0.15.1\n",
        "\n",
        "#for test\n",
        "#!pip install transformers==4.24.0\n",
        "#!pip install seqeval==1.2.2"
      ]
    },
    {
      "cell_type": "code",
      "execution_count": null,
      "metadata": {
        "id": "EnvxnWZ_hwU8"
      },
      "outputs": [],
      "source": [
        "#######################"
      ]
    },
    {
      "cell_type": "code",
      "execution_count": null,
      "metadata": {
        "id": "ivJDyClEatWV"
      },
      "outputs": [],
      "source": [
        "!export PYTHONPATH=PYTHONPATH:/path/to/ArabicNER"
      ]
    },
    {
      "cell_type": "code",
      "execution_count": null,
      "metadata": {
        "id": "jLHHpnFXr7-K"
      },
      "outputs": [],
      "source": [
        "# Remove existing package and clone again from Github\n",
        "!rm -rf /content/ArabicNER\n",
        "!git clone https://github.com/SinaLab/ArabicNER.git"
      ]
    },
    {
      "cell_type": "code",
      "execution_count": null,
      "metadata": {
        "id": "o4EvIlcrssU6"
      },
      "outputs": [],
      "source": [
        "# Add the ArabicNER package to the system path\n",
        "import sys\n",
        "import argparse\n",
        "sys.path.append('/content/ArabicNER/')"
      ]
    },
    {
      "cell_type": "code",
      "execution_count": null,
      "metadata": {
        "id": "h9LbpyNxPZFM"
      },
      "outputs": [],
      "source": []
    },
    {
      "cell_type": "code",
      "execution_count": null,
      "metadata": {
        "id": "-rM-8p4nsztp"
      },
      "outputs": [],
      "source": [
        "# Import train function\n",
        "from arabiner.bin.train import main as train"
      ]
    },
    {
      "cell_type": "code",
      "execution_count": null,
      "metadata": {
        "id": "UqqvY1fXtZpD"
      },
      "outputs": [],
      "source": [
        "Bert_Model_name = \"CAMeL-Lab/bert-base-arabic-camelbert-mix-ner\"\n",
        "\n",
        "args_dict = {\n",
        "\n",
        "    \"bert_model\":Bert_Model_name,\n",
        "\n",
        "    \"output_path\": \"/content/output/\",\n",
        "\n",
        "    # train/test/validation data paths\n",
        "    \"train_path\": \"/content/ANERtrainC10.txt\",\n",
        "    \"test_path\": \"/content/ANERtestC10.txt\",\n",
        "    \"val_path\": \"/content/ANERvalC10.txt\",\n",
        "\n",
        "    # seed for randomization\n",
        "    \"seed\": 1,\n",
        "\n",
        "    \"batch_size\": 16,\n",
        "\n",
        "    # Nmber of workers for the dataloader\n",
        "    \"num_workers\": 1,\n",
        "\n",
        "    \"gpus\": [0],\n",
        "\n",
        "    \"overwrite\": True,\n",
        "\n",
        "    \"log_interval\": 10,\n",
        "\n",
        "    \"data_config\": {\n",
        "        \"fn\": \"arabiner.data.datasets.DefaultDataset\",\n",
        "        \"kwargs\": {\"bert_model\":Bert_Model_name ,\n",
        "                   \"max_seq_len\": 256}\n",
        "    },\n",
        "\n",
        "    \"network_config\": {\n",
        "        \"fn\": \"arabiner.nn.BertSeqTagger\",\n",
        "        \"kwargs\": {\"dropout\": 0.1, \"bert_model\": Bert_Model_name}\n",
        "    },\n",
        "\n",
        "\n",
        "    \"trainer_config\": {\n",
        "        \"fn\": \"arabiner.trainers.BertTrainer\",\n",
        "        \"kwargs\": {\"max_epochs\": 50}\n",
        "    },\n",
        "\n",
        "    \"optimizer\": {\n",
        "        \"fn\": \"torch.optim.AdamW\",\n",
        "        \"kwargs\": {\"lr\": 1e-5}\n",
        "    },\n",
        "\n",
        "\n",
        "    \"lr_scheduler\": {\n",
        "        \"fn\": \"torch.optim.lr_scheduler.ExponentialLR\",\n",
        "        \"kwargs\": {\"gamma\": 1}\n",
        "    },\n",
        "\n",
        "       \"loss\": {\n",
        "        \"fn\": \"torch.nn.CrossEntropyLoss\",\n",
        "        \"kwargs\": {}\n",
        "    }\n",
        "}\n",
        "\n",
        "# Convert args dictionary to argparse namespace\n",
        "args = argparse.Namespace()\n",
        "args.__dict__ = args_dict"
      ]
    },
    {
      "cell_type": "code",
      "execution_count": null,
      "metadata": {
        "id": "EJQMuAC8taZB"
      },
      "outputs": [],
      "source": [
        "# Start training the model\n",
        "train(args)"
      ]
    },
    {
      "cell_type": "code",
      "execution_count": null,
      "metadata": {
        "id": "AWjHpGKn5doL"
      },
      "outputs": [],
      "source": [
        "################ tesssssssssssssssssssssssst #####################\n",
        "################ To Test the Model ####################"
      ]
    },
    {
      "cell_type": "code",
      "execution_count": null,
      "metadata": {
        "id": "8FXKqHYMw2Ym"
      },
      "outputs": [],
      "source": [
        "# Remove existing ArabicNER model and clone the model huggingface repo\n",
        "!rm -rf /content/outputval\n",
        "#!git clone --branch flat https://huggingface.co/SinaLab/ArabicNER-Wojood"
      ]
    },
    {
      "cell_type": "code",
      "execution_count": null,
      "metadata": {
        "id": "Fw6Mea3fxOIm"
      },
      "outputs": [],
      "source": [
        "# Import test function\n",
        "from arabiner.bin.eval import main as eval"
      ]
    },
    {
      "cell_type": "markdown",
      "metadata": {
        "id": "azH3HmAJk-pt"
      },
      "source": [
        "TEST on the Validation data"
      ]
    },
    {
      "cell_type": "code",
      "execution_count": null,
      "metadata": {
        "id": "rxpFMV5ExdNv"
      },
      "outputs": [],
      "source": [
        "# Setup the evaluation arguments\n",
        "args_dict = {\n",
        "    # Output path to save logs, metrics and predictions\n",
        "    \"output_path\": \"/content/outputval/\",\n",
        "\n",
        "    # train/test/validation data paths\n",
        "    # The data provided in the ArabicNER repo is a sample data\n",
        "    # data_paths takes a list of data paths in case you need to evaluate multiple datasets\n",
        "    \"data_paths\": [\"/content/ANERvalC10.txt\"],\n",
        "\n",
        "    # Path to the model, this corresponds to the \"output_path\" you specified\n",
        "    # during training the model\n",
        "    \"model_path\": \"/content/output/\",\n",
        "\n",
        "    \"batch_size\": 16\n",
        "}\n",
        "\n",
        "# Convert args dictionary to argparse namespace\n",
        "args = argparse.Namespace()\n",
        "args.__dict__ = args_dict\n",
        "eval(args)"
      ]
    },
    {
      "cell_type": "code",
      "source": [
        "#test on the test data"
      ],
      "metadata": {
        "id": "QFKTPXMx8q_9"
      },
      "execution_count": null,
      "outputs": []
    },
    {
      "cell_type": "code",
      "source": [
        "# Setup the evaluation arguments\n",
        "args_dict = {\n",
        "    # Output path to save logs, metrics and predictions\n",
        "    \"output_path\": \"/content/outputtest/\",\n",
        "\n",
        "    # train/test/validation data paths\n",
        "    # The data provided in the ArabicNER repo is a sample data\n",
        "    # data_paths takes a list of data paths in case you need to evaluate multiple datasets\n",
        "    \"data_paths\": [\"/content/ANERtestC10.txt\"],\n",
        "\n",
        "    # Path to the model, this corresponds to the \"output_path\" you specified\n",
        "    # during training the model\n",
        "    \"model_path\": \"/content/output/\",\n",
        "\n",
        "    \"batch_size\": 16\n",
        "}\n",
        "\n",
        "# Convert args dictionary to argparse namespace\n",
        "args = argparse.Namespace()\n",
        "args.__dict__ = args_dict\n",
        "\n",
        "eval(args)"
      ],
      "metadata": {
        "id": "0HPBKUYL8qY7"
      },
      "execution_count": null,
      "outputs": []
    },
    {
      "cell_type": "code",
      "source": [],
      "metadata": {
        "id": "D9uSehpJV5vG"
      },
      "execution_count": null,
      "outputs": []
    }
  ],
  "metadata": {
    "accelerator": "GPU",
    "colab": {
      "provenance": []
    },
    "gpuClass": "standard",
    "kernelspec": {
      "display_name": "Python 3",
      "name": "python3"
    },
    "language_info": {
      "name": "python"
    }
  },
  "nbformat": 4,
  "nbformat_minor": 0
}